{
 "cells": [
  {
   "cell_type": "code",
   "execution_count": 1,
   "id": "80640dfd",
   "metadata": {
    "is_executing": true
   },
   "outputs": [],
   "source": [
    "import sys\n",
    "import pandas as pd\n",
    "import numpy as np\n",
    "\n",
    "\n",
    "# add path to load on University computer\n",
    "sys.path.append('/space/ge45leb/Programs/python_packages/')\n",
    "\n",
    "# functions needed for feature engineering\n",
    "from sklearn.preprocessing import OneHotEncoder\n",
    "from sklearn.preprocessing import OrdinalEncoder\n",
    "from sklearn.model_selection import train_test_split\n",
    "\n",
    "# functions needed for model\n",
    "from sklearn.metrics import mean_absolute_error\n",
    "from tensorflow import keras\n",
    "from tensorflow.keras import layers"
   ]
  },
  {
   "cell_type": "code",
   "execution_count": 2,
   "id": "fce991dc",
   "metadata": {},
   "outputs": [],
   "source": [
    "def transform_side( cabin_nb ):\n",
    "    \"\"\" Asign numeric values for the cabin side. \"\"\"\n",
    "    side = cabin_nb.split('/')[2]\n",
    "    \n",
    "    if side == 'P':\n",
    "        side = 1\n",
    "    \n",
    "    elif side == 'S':\n",
    "        side = -1\n",
    "    \n",
    "    else:\n",
    "        side = 0\n",
    "        \n",
    "    return side"
   ]
  },
  {
   "cell_type": "markdown",
   "id": "adcdabc8",
   "metadata": {},
   "source": [
    "## Feature Engineering"
   ]
  },
  {
   "cell_type": "code",
   "execution_count": null,
   "id": "58135190",
   "metadata": {},
   "outputs": [],
   "source": [
    "data = pd.read_csv('data/train.csv')\n",
    "\n",
    "\n",
    "# Split data from labels\n",
    "y = data['Transported']\n",
    "X = data.drop(['Transported'], axis=1)"
   ]
  },
  {
   "cell_type": "code",
   "execution_count": null,
   "id": "6f079566",
   "metadata": {},
   "outputs": [],
   "source": [
    "X.head()"
   ]
  },
  {
   "cell_type": "code",
   "execution_count": 16,
   "id": "f4d9af07",
   "metadata": {},
   "outputs": [
    {
     "data": {
      "text/plain": [
       "0    8494\n",
       "1     199\n",
       "Name: VIP, dtype: int64"
      ]
     },
     "execution_count": 16,
     "metadata": {},
     "output_type": "execute_result"
    }
   ],
   "source": [
    "#X['CryoSleep'].value_counts()\n",
    "#X['HomePlanet'].value_counts()\n",
    "X['VIP'].value_counts()"
   ]
  },
  {
   "cell_type": "code",
   "execution_count": 4,
   "id": "f0514e36",
   "metadata": {},
   "outputs": [],
   "source": [
    "\n",
    "\n",
    "# I drop the name because most of them appear once (why are there some which appear more often?)\n",
    "# If no grouping after name is done it should be random. For first try this is good enough.\n",
    "\n",
    "X = X.drop(['Name'], axis = 1)\n",
    "#\n",
    "\n",
    "# Impute nans with most common value in the column\n",
    "\n",
    "X['CryoSleep'] = (X['CryoSleep'].fillna(False)).astype(int)\n",
    "X['VIP'] = (X['VIP'].fillna(False)).astype(int)\n",
    "X['HomePlanet'] = X['HomePlanet'].fillna('Earth')\n",
    "X['PassengerId'] = X['PassengerId'].map(lambda ID: int(ID.split('_')[0]))\n",
    "\n",
    "\n",
    "# One-hot encode 3 origin planets \n",
    "OH_encoder = OneHotEncoder(handle_unknown='ignore', sparse_output=False)\n",
    "OH_cols_train = pd.DataFrame(OH_encoder.fit_transform(X[['HomePlanet', 'Destination']]))\n",
    "\n",
    "# One-hot encoding removed index; put it back\n",
    "OH_cols_train.index = X.index\n",
    "\n",
    "# Replace original columns with one-hot encoded data\n",
    "num_X = X.drop(['HomePlanet', 'Destination'], axis=1)\n",
    "X = pd.concat([num_X, OH_cols_train], axis=1)\n",
    "\n",
    "\n",
    "# Split Cabin information into Floor|Seat|Side\n",
    "X['Cabin'] = X['Cabin'].fillna('U/-1/U')\n",
    "X['Floor'] = X['Cabin'].apply(lambda cabin_nb: cabin_nb.split('/')[0])\n",
    "X['Seat']  = X['Cabin'].apply(lambda cabin_nb: int(cabin_nb.split('/')[1]))\n",
    "X['Side']  = X['Cabin'].apply(transform_side)\n",
    "\n",
    "X = X.drop(['Cabin'], axis=1)\n",
    "\n",
    "\n",
    "# Normalize numeric data\n",
    "Normalize_col = ['PassengerId', 'Age', 'RoomService', 'FoodCourt', 'ShoppingMall', 'Spa', 'VRDeck', 'Seat']\n",
    "X[Normalize_col] = X[Normalize_col] / X[Normalize_col].max()\n",
    "\n",
    "\n",
    "\n",
    "# Apply ordinal encoder to Floor data (is sensible becasue of the hierachical structure)\n",
    "ordinal_encoder = OrdinalEncoder()\n",
    "X['Floor'] = ordinal_encoder.fit_transform(X[['Floor']])\n",
    "\n",
    "# Fill additional expanses with most common value\n",
    "services = ['RoomService', 'FoodCourt', 'ShoppingMall', 'Spa', 'VRDeck']\n",
    "X[services] = X[services].fillna(0)\n",
    "X = X.fillna(0)"
   ]
  },
  {
   "cell_type": "code",
   "execution_count": 7,
   "id": "67b9d3ca",
   "metadata": {},
   "outputs": [],
   "source": [
    "# Split train and test set\n",
    "X_train, X_test, y_train, y_test = train_test_split(X, y, test_size=0.33, random_state=42)"
   ]
  },
  {
   "cell_type": "markdown",
   "id": "675fb3cb",
   "metadata": {},
   "source": [
    "## Build Model "
   ]
  },
  {
   "cell_type": "code",
   "execution_count": 10,
   "id": "973c1f94",
   "metadata": {},
   "outputs": [
    {
     "name": "stderr",
     "output_type": "stream",
     "text": [
      "2024-02-20 19:57:46.700696: E external/local_xla/xla/stream_executor/cuda/cuda_driver.cc:274] failed call to cuInit: CUDA_ERROR_NO_DEVICE: no CUDA-capable device is detected\n"
     ]
    }
   ],
   "source": [
    "# Play around with various model types, activation functions etc. \n",
    "\n",
    "model = keras.Sequential([\n",
    "    \n",
    "    layers.Dense(19, activation='relu', input_shape=[19,]),\n",
    "    layers.Dropout(0.5),\n",
    "    layers.BatchNormalization(),\n",
    "    #layers.Dense(19, activation='relu', input_shape=[19,]),\n",
    "    #layers.Dropout(0.3),\n",
    "    #layers.Dense(12, activation='relu', input_shape=[19,]),\n",
    "    #layers.Dropout(0.3),\n",
    "    layers.Dense(10, activation='relu', input_shape=[19,]),\n",
    "    layers.Dropout(0.3),\n",
    "    layers.BatchNormalization(),\n",
    "    layers.Dense(5, activation='relu', input_shape=[19,]),\n",
    "    layers.Dropout(0.3),\n",
    "    layers.BatchNormalization(),\n",
    "    layers.Dense(1, activation='sigmoid', input_shape=[19,]),\n",
    "\n",
    "])\n",
    "\n",
    "#"
   ]
  },
  {
   "cell_type": "markdown",
   "id": "f2c4f3dd",
   "metadata": {},
   "source": [
    "## Training"
   ]
  },
  {
   "cell_type": "code",
   "execution_count": 11,
   "id": "409fc2e8",
   "metadata": {},
   "outputs": [],
   "source": [
    "from tensorflow import keras\n",
    "from tensorflow.keras import layers, callbacks\n",
    "\n",
    "\n",
    "early_stopping = callbacks.EarlyStopping(\n",
    "    min_delta=0.001, # minimium amount of change to count as an improvement\n",
    "    patience=40, # how many epochs to wait before stopping\n",
    "    restore_best_weights=True,\n",
    ")\n",
    "\n",
    "model.compile(\n",
    "    optimizer='adam',\n",
    "    loss='binary_crossentropy',\n",
    "    metrics=['binary_accuracy']\n",
    ")\n",
    "\n",
    "history = model.fit(X_train, y_train, validation_data=[X_test, y_test],\n",
    "                batch_size=310,\n",
    "                epochs=2000,\n",
    "                #callbacks=[early_stopping],\n",
    "                verbose=0    \n",
    "                   )"
   ]
  },
  {
   "cell_type": "code",
   "execution_count": 12,
   "id": "46a66d55",
   "metadata": {},
   "outputs": [
    {
     "data": {
      "image/png": "[encoded data removed]",
      "text/plain": [
       "<Figure size 640x480 with 1 Axes>"
      ]
     },
     "metadata": {},
     "output_type": "display_data"
    }
   ],
   "source": [
    "# convert the training history to a dataframe\n",
    "history_df = pd.DataFrame(history.history)\n",
    "# use Pandas native plot method\n",
    "history_df['loss'].plot();"
   ]
  },
  {
   "cell_type": "markdown",
   "id": "0109abbe",
   "metadata": {},
   "source": [
    "print(X_train.shape)\n",
    "X_test.shape"
   ]
  },
  {
   "cell_type": "code",
   "execution_count": 26,
   "id": "d8fcd724",
   "metadata": {},
   "outputs": [
    {
     "name": "stdout",
     "output_type": "stream",
     "text": [
      "90/90 [==============================] - 0s 444us/step\n",
      " The score on the test set is: 0.7821021733214105\n"
     ]
    }
   ],
   "source": [
    "from sklearn.metrics import balanced_accuracy_score\n",
    "\n",
    "preds = (model.predict(X_test) > 0.5).astype('int32')\n",
    "bacc_nn = balanced_accuracy_score(y_test, preds)\n",
    "\n",
    "print( f\" The score on the test set is: {bacc_nn}\")"
   ]
  },
  {
   "cell_type": "markdown",
   "id": "d781d200",
   "metadata": {},
   "source": [
    "## Make prediction for validation set ( submitted to Kaggle competition)"
   ]
  },
  {
   "cell_type": "code",
   "execution_count": 17,
   "id": "80259163",
   "metadata": {},
   "outputs": [],
   "source": [
    "# Load validation set\n",
    "X_valid = pd.read_csv('data/test.csv')\n",
    "\n",
    "# Perform same transformation as on the training set\n",
    "\n",
    "X_valid = X_valid.drop(['Name'], axis = 1)\n",
    "X_valid['CryoSleep'] = (X_valid['CryoSleep'].fillna(False)).astype(int)\n",
    "X_valid['VIP'] = (X_valid['VIP'].fillna(False)).astype(int)\n",
    "X_valid['HomePlanet'] = X_valid['HomePlanet'].fillna('Earth')\n",
    "X_valid['PassengerId'] = X_valid['PassengerId'].map(lambda ID: int(ID.split('_')[0]))\n",
    "\n",
    "# one-hot encoding\n",
    "\n",
    "OH_cols_train = pd.DataFrame(OH_encoder.fit_transform(X_valid[['HomePlanet', 'Destination']]))\n",
    "OH_cols_train.index = X_valid.index\n",
    "\n",
    "\n",
    "num_X_valid = X_valid.drop(['HomePlanet', 'Destination'], axis=1)\n",
    "X_valid = pd.concat([num_X_valid, OH_cols_train], axis=1)\n",
    "\n",
    "# transform cabin data \n",
    "\n",
    "X_valid['Cabin'] = X_valid['Cabin'].fillna('U/-1/U')\n",
    "X_valid['Floor'] = X_valid['Cabin'].apply(lambda cabin_nb: cabin_nb.split('/')[0])\n",
    "X_valid['Seat']  = X_valid['Cabin'].apply(lambda cabin_nb: int(cabin_nb.split('/')[1]))\n",
    "X_valid['Side']  = X_valid['Cabin'].apply(transform_side)\n",
    "X_valid = X_valid.drop(['Cabin'], axis=1)\n",
    "\n",
    "Normalize_col = ['PassengerId', 'Age', 'RoomService', 'FoodCourt', 'ShoppingMall', 'Spa', 'VRDeck', 'Seat']\n",
    "X_valid[Normalize_col] = X_valid[Normalize_col] / X_valid[Normalize_col].max()\n",
    "\n",
    "\n",
    "ordinal_encoder = OrdinalEncoder()\n",
    "X_valid['Floor'] = ordinal_encoder.fit_transform(X_valid[['Floor']])\n",
    "\n",
    "services = ['RoomService', 'FoodCourt', 'ShoppingMall', 'Spa', 'VRDeck']\n",
    "X_valid[services] = X_valid[services].fillna(0)\n",
    "X_valid = X_valid.fillna(0)"
   ]
  },
  {
   "cell_type": "code",
   "execution_count": 30,
   "id": "0bd5e384",
   "metadata": {},
   "outputs": [
    {
     "name": "stdout",
     "output_type": "stream",
     "text": [
      "134/134 [==============================] - 0s 446us/step\n"
     ]
    },
    {
     "data": {
      "text/html": [
       "<div>\n",
       "<style scoped>\n",
       "    .dataframe tbody tr th:only-of-type {\n",
       "        vertical-align: middle;\n",
       "    }\n",
       "\n",
       "    .dataframe tbody tr th {\n",
       "        vertical-align: top;\n",
       "    }\n",
       "\n",
       "    .dataframe thead th {\n",
       "        text-align: right;\n",
       "    }\n",
       "</style>\n",
       "<table border=\"1\" class=\"dataframe\">\n",
       "  <thead>\n",
       "    <tr style=\"text-align: right;\">\n",
       "      <th></th>\n",
       "      <th>PassengerId</th>\n",
       "      <th>Transported</th>\n",
       "    </tr>\n",
       "  </thead>\n",
       "  <tbody>\n",
       "    <tr>\n",
       "      <th>0</th>\n",
       "      <td>0013_01</td>\n",
       "      <td>False</td>\n",
       "    </tr>\n",
       "    <tr>\n",
       "      <th>1</th>\n",
       "      <td>0018_01</td>\n",
       "      <td>False</td>\n",
       "    </tr>\n",
       "    <tr>\n",
       "      <th>2</th>\n",
       "      <td>0019_01</td>\n",
       "      <td>False</td>\n",
       "    </tr>\n",
       "    <tr>\n",
       "      <th>3</th>\n",
       "      <td>0021_01</td>\n",
       "      <td>False</td>\n",
       "    </tr>\n",
       "    <tr>\n",
       "      <th>4</th>\n",
       "      <td>0023_01</td>\n",
       "      <td>False</td>\n",
       "    </tr>\n",
       "  </tbody>\n",
       "</table>\n",
       "</div>"
      ],
      "text/plain": [
       "  PassengerId  Transported\n",
       "0     0013_01        False\n",
       "1     0018_01        False\n",
       "2     0019_01        False\n",
       "3     0021_01        False\n",
       "4     0023_01        False"
      ]
     },
     "execution_count": 30,
     "metadata": {},
     "output_type": "execute_result"
    }
   ],
   "source": [
    "# make prediction based on trained model\n",
    "\n",
    "preds = (model.predict(X_valid) > 0.5).astype(int)\n",
    "\n",
    "# Sample submission (to get right format)\n",
    "sub=pd.read_csv('data/sample_submission.csv')\n",
    "sub.head()"
   ]
  },
  {
   "cell_type": "code",
   "execution_count": 31,
   "id": "db42b8ba",
   "metadata": {},
   "outputs": [],
   "source": [
    "# Sample submission (to get right format)\n",
    "sub=pd.read_csv('data/sample_submission.csv')\n",
    "\n",
    "# Add predictions\n",
    "sub['Transported'] = preds\n",
    "\n",
    "# Replace 0 to False and 1 to True\n",
    "sub=sub.replace({0:False, 1:True})\n",
    "\n",
    "# Output to csv\n",
    "sub.to_csv('submission.csv', index=False)"
   ]
  },
  {
   "cell_type": "code",
   "execution_count": 32,
   "id": "ad63394a",
   "metadata": {},
   "outputs": [
    {
     "data": {
      "text/plain": [
       "array([[1],\n",
       "       [0],\n",
       "       [1],\n",
       "       ...,\n",
       "       [1],\n",
       "       [1],\n",
       "       [1]])"
      ]
     },
     "execution_count": 32,
     "metadata": {},
     "output_type": "execute_result"
    }
   ],
   "source": [
    "preds"
   ]
  }
 ],
 "metadata": {
  "kernelspec": {
   "display_name": "Python 3 (ipykernel)",
   "language": "python",
   "name": "python3"
  },
  "language_info": {
   "codemirror_mode": {
    "name": "ipython",
    "version": 3
   },
   "file_extension": ".py",
   "mimetype": "text/x-python",
   "name": "python",
   "nbconvert_exporter": "python",
   "pygments_lexer": "ipython3",
   "version": "3.11.3"
  }
 },
 "nbformat": 4,
 "nbformat_minor": 5
}
